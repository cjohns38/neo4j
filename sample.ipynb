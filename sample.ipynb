{
 "cells": [
  {
   "cell_type": "code",
   "execution_count": 2,
   "outputs": [],
   "source": [
    "import random\n",
    "import keyring\n",
    "\n",
    "from neo4j import GraphDatabase\n",
    "from neomodel.contrib.spatial_properties import NeomodelPoint\n",
    "from neomodel import config, db\n",
    "\n",
    "from faker import Faker\n",
    "\n",
    "from utils.user_creation import Create_Person\n",
    "from utils.neomodel_models import Geo, Person"
   ],
   "metadata": {
    "collapsed": false,
    "ExecuteTime": {
     "end_time": "2024-02-17T22:17:56.662488029Z",
     "start_time": "2024-02-17T22:17:56.539593583Z"
    }
   },
   "id": "90e8d9706a660566"
  },
  {
   "cell_type": "code",
   "execution_count": 3,
   "outputs": [],
   "source": [
    "# Set passwords \n",
    "#keyring.set_password('neo4j', 'login', 'neo4j')\n",
    "#keyring.set_password('neo4j', 'password', '')\n",
    "#keyring.set_password('neo4j', 'uri', 'bolt://localhost:7687')"
   ],
   "metadata": {
    "collapsed": false,
    "ExecuteTime": {
     "end_time": "2024-02-17T22:17:56.684156622Z",
     "start_time": "2024-02-17T22:17:56.638337694Z"
    }
   },
   "id": "2ab22189dbe93957"
  },
  {
   "cell_type": "code",
   "execution_count": 4,
   "outputs": [],
   "source": [
    "# Pull login information\n",
    "login = keyring.get_password('neo4j', 'login')\n",
    "password = keyring.get_password('neo4j', 'password')\n",
    "uri = keyring.get_password('neo4j', 'uri')"
   ],
   "metadata": {
    "collapsed": false,
    "ExecuteTime": {
     "end_time": "2024-02-17T22:17:57.671714938Z",
     "start_time": "2024-02-17T22:17:56.680869014Z"
    }
   },
   "id": "d39583a88f1fa87"
  },
  {
   "cell_type": "code",
   "execution_count": 5,
   "outputs": [],
   "source": [
    "# Create driver \n",
    "my_driver = GraphDatabase().driver(uri, auth=(login, password))\n",
    "config.DRIVER = my_driver"
   ],
   "metadata": {
    "collapsed": false,
    "ExecuteTime": {
     "end_time": "2024-02-17T22:17:57.672873106Z",
     "start_time": "2024-02-17T22:17:57.668659205Z"
    }
   },
   "id": "e1c1282d47f91b35"
  },
  {
   "cell_type": "markdown",
   "source": [
    "# Generate fake users & locations"
   ],
   "metadata": {
    "collapsed": false
   },
   "id": "10385bd245edb6ab"
  },
  {
   "cell_type": "code",
   "execution_count": 6,
   "outputs": [],
   "source": [
    "fake = Faker()"
   ],
   "metadata": {
    "collapsed": false,
    "ExecuteTime": {
     "end_time": "2024-02-17T22:17:57.737628735Z",
     "start_time": "2024-02-17T22:17:57.669300563Z"
    }
   },
   "id": "98d88e58b1e82bb2"
  },
  {
   "cell_type": "code",
   "execution_count": 7,
   "outputs": [],
   "source": [
    "# Generate people \n",
    "with db.transaction: \n",
    "    for i in range(0, 1000): \n",
    "        p1 = Create_Person()\n",
    "        neo4j_person = Person(**p1.cypfer_query())\n",
    "        neo4j_person.save()"
   ],
   "metadata": {
    "collapsed": false,
    "ExecuteTime": {
     "end_time": "2024-02-17T22:18:02.584658327Z",
     "start_time": "2024-02-17T22:17:57.729367456Z"
    }
   },
   "id": "8d9a68a387f670b8"
  },
  {
   "cell_type": "code",
   "execution_count": 8,
   "outputs": [],
   "source": [
    "# Generate geo data \n",
    "for i in range(0, 1000):\n",
    "    with db.transaction:\n",
    "        lat = float(round(fake.latitude(), 2))\n",
    "        long = float(round(fake.latitude(), 2))\n",
    "        loc = Geo(location=NeomodelPoint((lat, long), crs='wgs-84'))\n",
    "        loc.save()"
   ],
   "metadata": {
    "collapsed": false,
    "ExecuteTime": {
     "end_time": "2024-02-17T22:18:11.876507649Z",
     "start_time": "2024-02-17T22:18:02.608506998Z"
    }
   },
   "id": "4086134668797eba"
  },
  {
   "cell_type": "markdown",
   "source": [
    "# Connect users to geo"
   ],
   "metadata": {
    "collapsed": false
   },
   "id": "1c7920ef82a19b0e"
  },
  {
   "cell_type": "code",
   "execution_count": 9,
   "outputs": [],
   "source": [
    "# Create connections \n",
    "people = Person.nodes.all()\n",
    "locations = Geo.nodes.all()\n",
    "\n",
    "with db.transaction:\n",
    "    for person in people: \n",
    "        num_geo = random.randint(1, 10)\n",
    "        random_sample_geo = random.sample(locations, num_geo)\n",
    "        for geo in random_sample_geo:\n",
    "            person.geo_data.connect(geo)\n",
    "        "
   ],
   "metadata": {
    "collapsed": false,
    "ExecuteTime": {
     "end_time": "2024-02-17T22:18:24.856581339Z",
     "start_time": "2024-02-17T22:18:11.881605872Z"
    }
   },
   "id": "72dc8e4dd894dca9"
  },
  {
   "cell_type": "markdown",
   "source": [
    "# Query where geo locations associated with more than one user"
   ],
   "metadata": {
    "collapsed": false
   },
   "id": "3876b7dfa3e78941"
  },
  {
   "cell_type": "code",
   "execution_count": 10,
   "outputs": [],
   "source": [
    "qry_more_than_one_user = '''MATCH (geo:Geo) \n",
    "WHERE COUNT {(geo)-[:LOCATED_AT]-(:Person)} > 8\n",
    "RETURN geo'''"
   ],
   "metadata": {
    "collapsed": false,
    "ExecuteTime": {
     "end_time": "2024-02-17T22:18:24.865379849Z",
     "start_time": "2024-02-17T22:18:24.861156677Z"
    }
   },
   "id": "3896afead1847d2a"
  },
  {
   "cell_type": "code",
   "execution_count": 11,
   "outputs": [
    {
     "data": {
      "text/plain": "[[<Node element_id='4:987c64da-a00c-4ad0-ac12-079d0198decc:1001' labels=frozenset({'Geo'}) properties={'location': POINT(-38.63 -26.02)}>],\n [<Node element_id='4:987c64da-a00c-4ad0-ac12-079d0198decc:1035' labels=frozenset({'Geo'}) properties={'location': POINT(-41.7 -52.48)}>],\n [<Node element_id='4:987c64da-a00c-4ad0-ac12-079d0198decc:1053' labels=frozenset({'Geo'}) properties={'location': POINT(-47.99 13.08)}>],\n [<Node element_id='4:987c64da-a00c-4ad0-ac12-079d0198decc:1057' labels=frozenset({'Geo'}) properties={'location': POINT(4.12 -29.39)}>],\n [<Node element_id='4:987c64da-a00c-4ad0-ac12-079d0198decc:1071' labels=frozenset({'Geo'}) properties={'location': POINT(-19.82 -39.25)}>],\n [<Node element_id='4:987c64da-a00c-4ad0-ac12-079d0198decc:1088' labels=frozenset({'Geo'}) properties={'location': POINT(-41.73 79.93)}>],\n [<Node element_id='4:987c64da-a00c-4ad0-ac12-079d0198decc:1090' labels=frozenset({'Geo'}) properties={'location': POINT(69.86 0.19)}>],\n [<Node element_id='4:987c64da-a00c-4ad0-ac12-079d0198decc:1096' labels=frozenset({'Geo'}) properties={'location': POINT(-49.85 37.77)}>],\n [<Node element_id='4:987c64da-a00c-4ad0-ac12-079d0198decc:1105' labels=frozenset({'Geo'}) properties={'location': POINT(83.99 63.45)}>],\n [<Node element_id='4:987c64da-a00c-4ad0-ac12-079d0198decc:1154' labels=frozenset({'Geo'}) properties={'location': POINT(-2.75 43.43)}>],\n [<Node element_id='4:987c64da-a00c-4ad0-ac12-079d0198decc:1161' labels=frozenset({'Geo'}) properties={'location': POINT(-82.95 -25.0)}>],\n [<Node element_id='4:987c64da-a00c-4ad0-ac12-079d0198decc:1165' labels=frozenset({'Geo'}) properties={'location': POINT(83.01 39.08)}>],\n [<Node element_id='4:987c64da-a00c-4ad0-ac12-079d0198decc:1201' labels=frozenset({'Geo'}) properties={'location': POINT(-15.39 -81.59)}>],\n [<Node element_id='4:987c64da-a00c-4ad0-ac12-079d0198decc:1209' labels=frozenset({'Geo'}) properties={'location': POINT(44.36 -68.55)}>],\n [<Node element_id='4:987c64da-a00c-4ad0-ac12-079d0198decc:1212' labels=frozenset({'Geo'}) properties={'location': POINT(18.02 12.92)}>],\n [<Node element_id='4:987c64da-a00c-4ad0-ac12-079d0198decc:1239' labels=frozenset({'Geo'}) properties={'location': POINT(72.85 -17.91)}>],\n [<Node element_id='4:987c64da-a00c-4ad0-ac12-079d0198decc:1256' labels=frozenset({'Geo'}) properties={'location': POINT(-39.28 -77.59)}>],\n [<Node element_id='4:987c64da-a00c-4ad0-ac12-079d0198decc:1259' labels=frozenset({'Geo'}) properties={'location': POINT(69.99 70.85)}>],\n [<Node element_id='4:987c64da-a00c-4ad0-ac12-079d0198decc:1260' labels=frozenset({'Geo'}) properties={'location': POINT(-20.58 -60.88)}>],\n [<Node element_id='4:987c64da-a00c-4ad0-ac12-079d0198decc:1275' labels=frozenset({'Geo'}) properties={'location': POINT(70.12 -68.22)}>],\n [<Node element_id='4:987c64da-a00c-4ad0-ac12-079d0198decc:1284' labels=frozenset({'Geo'}) properties={'location': POINT(89.95 45.54)}>],\n [<Node element_id='4:987c64da-a00c-4ad0-ac12-079d0198decc:1288' labels=frozenset({'Geo'}) properties={'location': POINT(-46.52 36.29)}>],\n [<Node element_id='4:987c64da-a00c-4ad0-ac12-079d0198decc:1291' labels=frozenset({'Geo'}) properties={'location': POINT(76.37 50.75)}>],\n [<Node element_id='4:987c64da-a00c-4ad0-ac12-079d0198decc:1314' labels=frozenset({'Geo'}) properties={'location': POINT(40.86 74.19)}>],\n [<Node element_id='4:987c64da-a00c-4ad0-ac12-079d0198decc:1327' labels=frozenset({'Geo'}) properties={'location': POINT(-21.04 -85.3)}>],\n [<Node element_id='4:987c64da-a00c-4ad0-ac12-079d0198decc:1333' labels=frozenset({'Geo'}) properties={'location': POINT(-5.43 55.46)}>],\n [<Node element_id='4:987c64da-a00c-4ad0-ac12-079d0198decc:1359' labels=frozenset({'Geo'}) properties={'location': POINT(-53.18 54.69)}>],\n [<Node element_id='4:987c64da-a00c-4ad0-ac12-079d0198decc:1361' labels=frozenset({'Geo'}) properties={'location': POINT(-73.63 22.8)}>],\n [<Node element_id='4:987c64da-a00c-4ad0-ac12-079d0198decc:1368' labels=frozenset({'Geo'}) properties={'location': POINT(-30.74 24.97)}>],\n [<Node element_id='4:987c64da-a00c-4ad0-ac12-079d0198decc:1369' labels=frozenset({'Geo'}) properties={'location': POINT(-35.49 1.43)}>],\n [<Node element_id='4:987c64da-a00c-4ad0-ac12-079d0198decc:1373' labels=frozenset({'Geo'}) properties={'location': POINT(-56.52 11.11)}>],\n [<Node element_id='4:987c64da-a00c-4ad0-ac12-079d0198decc:1378' labels=frozenset({'Geo'}) properties={'location': POINT(-8.4 26.43)}>],\n [<Node element_id='4:987c64da-a00c-4ad0-ac12-079d0198decc:1380' labels=frozenset({'Geo'}) properties={'location': POINT(42.36 -29.94)}>],\n [<Node element_id='4:987c64da-a00c-4ad0-ac12-079d0198decc:1388' labels=frozenset({'Geo'}) properties={'location': POINT(-74.21 -58.99)}>],\n [<Node element_id='4:987c64da-a00c-4ad0-ac12-079d0198decc:1394' labels=frozenset({'Geo'}) properties={'location': POINT(-28.52 36.52)}>],\n [<Node element_id='4:987c64da-a00c-4ad0-ac12-079d0198decc:1401' labels=frozenset({'Geo'}) properties={'location': POINT(-6.72 38.97)}>],\n [<Node element_id='4:987c64da-a00c-4ad0-ac12-079d0198decc:1405' labels=frozenset({'Geo'}) properties={'location': POINT(50.59 -46.55)}>],\n [<Node element_id='4:987c64da-a00c-4ad0-ac12-079d0198decc:1413' labels=frozenset({'Geo'}) properties={'location': POINT(2.98 44.78)}>],\n [<Node element_id='4:987c64da-a00c-4ad0-ac12-079d0198decc:1420' labels=frozenset({'Geo'}) properties={'location': POINT(-31.05 -45.9)}>],\n [<Node element_id='4:987c64da-a00c-4ad0-ac12-079d0198decc:1425' labels=frozenset({'Geo'}) properties={'location': POINT(39.77 68.2)}>],\n [<Node element_id='4:987c64da-a00c-4ad0-ac12-079d0198decc:1426' labels=frozenset({'Geo'}) properties={'location': POINT(-65.77 15.08)}>],\n [<Node element_id='4:987c64da-a00c-4ad0-ac12-079d0198decc:1427' labels=frozenset({'Geo'}) properties={'location': POINT(-29.61 13.38)}>],\n [<Node element_id='4:987c64da-a00c-4ad0-ac12-079d0198decc:1433' labels=frozenset({'Geo'}) properties={'location': POINT(29.0 1.87)}>],\n [<Node element_id='4:987c64da-a00c-4ad0-ac12-079d0198decc:1438' labels=frozenset({'Geo'}) properties={'location': POINT(7.28 -43.07)}>],\n [<Node element_id='4:987c64da-a00c-4ad0-ac12-079d0198decc:1455' labels=frozenset({'Geo'}) properties={'location': POINT(65.08 48.79)}>],\n [<Node element_id='4:987c64da-a00c-4ad0-ac12-079d0198decc:1462' labels=frozenset({'Geo'}) properties={'location': POINT(-77.64 -75.38)}>],\n [<Node element_id='4:987c64da-a00c-4ad0-ac12-079d0198decc:1464' labels=frozenset({'Geo'}) properties={'location': POINT(-81.34 -6.97)}>],\n [<Node element_id='4:987c64da-a00c-4ad0-ac12-079d0198decc:1466' labels=frozenset({'Geo'}) properties={'location': POINT(55.9 -31.15)}>],\n [<Node element_id='4:987c64da-a00c-4ad0-ac12-079d0198decc:1483' labels=frozenset({'Geo'}) properties={'location': POINT(-24.86 -81.99)}>],\n [<Node element_id='4:987c64da-a00c-4ad0-ac12-079d0198decc:1492' labels=frozenset({'Geo'}) properties={'location': POINT(-21.18 -15.58)}>],\n [<Node element_id='4:987c64da-a00c-4ad0-ac12-079d0198decc:1507' labels=frozenset({'Geo'}) properties={'location': POINT(49.02 -47.72)}>],\n [<Node element_id='4:987c64da-a00c-4ad0-ac12-079d0198decc:1512' labels=frozenset({'Geo'}) properties={'location': POINT(56.19 -37.99)}>],\n [<Node element_id='4:987c64da-a00c-4ad0-ac12-079d0198decc:1513' labels=frozenset({'Geo'}) properties={'location': POINT(68.45 -28.5)}>],\n [<Node element_id='4:987c64da-a00c-4ad0-ac12-079d0198decc:1518' labels=frozenset({'Geo'}) properties={'location': POINT(19.64 -76.93)}>],\n [<Node element_id='4:987c64da-a00c-4ad0-ac12-079d0198decc:1523' labels=frozenset({'Geo'}) properties={'location': POINT(-54.68 1.92)}>],\n [<Node element_id='4:987c64da-a00c-4ad0-ac12-079d0198decc:1524' labels=frozenset({'Geo'}) properties={'location': POINT(71.69 -73.41)}>],\n [<Node element_id='4:987c64da-a00c-4ad0-ac12-079d0198decc:1540' labels=frozenset({'Geo'}) properties={'location': POINT(-57.23 72.36)}>],\n [<Node element_id='4:987c64da-a00c-4ad0-ac12-079d0198decc:1548' labels=frozenset({'Geo'}) properties={'location': POINT(61.88 -12.01)}>],\n [<Node element_id='4:987c64da-a00c-4ad0-ac12-079d0198decc:1571' labels=frozenset({'Geo'}) properties={'location': POINT(71.28 -50.65)}>],\n [<Node element_id='4:987c64da-a00c-4ad0-ac12-079d0198decc:1585' labels=frozenset({'Geo'}) properties={'location': POINT(-87.83 -77.78)}>],\n [<Node element_id='4:987c64da-a00c-4ad0-ac12-079d0198decc:1588' labels=frozenset({'Geo'}) properties={'location': POINT(80.26 -54.72)}>],\n [<Node element_id='4:987c64da-a00c-4ad0-ac12-079d0198decc:1611' labels=frozenset({'Geo'}) properties={'location': POINT(37.13 61.81)}>],\n [<Node element_id='4:987c64da-a00c-4ad0-ac12-079d0198decc:1613' labels=frozenset({'Geo'}) properties={'location': POINT(-51.81 -7.66)}>],\n [<Node element_id='4:987c64da-a00c-4ad0-ac12-079d0198decc:1639' labels=frozenset({'Geo'}) properties={'location': POINT(-75.55 58.77)}>],\n [<Node element_id='4:987c64da-a00c-4ad0-ac12-079d0198decc:1643' labels=frozenset({'Geo'}) properties={'location': POINT(-66.13 83.48)}>],\n [<Node element_id='4:987c64da-a00c-4ad0-ac12-079d0198decc:1644' labels=frozenset({'Geo'}) properties={'location': POINT(23.57 -72.52)}>],\n [<Node element_id='4:987c64da-a00c-4ad0-ac12-079d0198decc:1646' labels=frozenset({'Geo'}) properties={'location': POINT(55.69 -18.36)}>],\n [<Node element_id='4:987c64da-a00c-4ad0-ac12-079d0198decc:1648' labels=frozenset({'Geo'}) properties={'location': POINT(-51.52 -45.46)}>],\n [<Node element_id='4:987c64da-a00c-4ad0-ac12-079d0198decc:1651' labels=frozenset({'Geo'}) properties={'location': POINT(-49.3 65.49)}>],\n [<Node element_id='4:987c64da-a00c-4ad0-ac12-079d0198decc:1673' labels=frozenset({'Geo'}) properties={'location': POINT(-89.5 -88.01)}>],\n [<Node element_id='4:987c64da-a00c-4ad0-ac12-079d0198decc:1676' labels=frozenset({'Geo'}) properties={'location': POINT(77.26 39.87)}>],\n [<Node element_id='4:987c64da-a00c-4ad0-ac12-079d0198decc:1681' labels=frozenset({'Geo'}) properties={'location': POINT(19.69 25.29)}>],\n [<Node element_id='4:987c64da-a00c-4ad0-ac12-079d0198decc:1686' labels=frozenset({'Geo'}) properties={'location': POINT(70.31 -8.88)}>],\n [<Node element_id='4:987c64da-a00c-4ad0-ac12-079d0198decc:1691' labels=frozenset({'Geo'}) properties={'location': POINT(23.64 -15.54)}>],\n [<Node element_id='4:987c64da-a00c-4ad0-ac12-079d0198decc:1701' labels=frozenset({'Geo'}) properties={'location': POINT(-23.95 56.08)}>],\n [<Node element_id='4:987c64da-a00c-4ad0-ac12-079d0198decc:1709' labels=frozenset({'Geo'}) properties={'location': POINT(19.67 30.22)}>],\n [<Node element_id='4:987c64da-a00c-4ad0-ac12-079d0198decc:1710' labels=frozenset({'Geo'}) properties={'location': POINT(47.57 12.68)}>],\n [<Node element_id='4:987c64da-a00c-4ad0-ac12-079d0198decc:1715' labels=frozenset({'Geo'}) properties={'location': POINT(-17.34 34.22)}>],\n [<Node element_id='4:987c64da-a00c-4ad0-ac12-079d0198decc:1734' labels=frozenset({'Geo'}) properties={'location': POINT(80.1 -29.07)}>],\n [<Node element_id='4:987c64da-a00c-4ad0-ac12-079d0198decc:1744' labels=frozenset({'Geo'}) properties={'location': POINT(-0.65 52.79)}>],\n [<Node element_id='4:987c64da-a00c-4ad0-ac12-079d0198decc:1746' labels=frozenset({'Geo'}) properties={'location': POINT(-86.5 70.19)}>],\n [<Node element_id='4:987c64da-a00c-4ad0-ac12-079d0198decc:1782' labels=frozenset({'Geo'}) properties={'location': POINT(-73.78 -77.56)}>],\n [<Node element_id='4:987c64da-a00c-4ad0-ac12-079d0198decc:1808' labels=frozenset({'Geo'}) properties={'location': POINT(21.19 -69.06)}>],\n [<Node element_id='4:987c64da-a00c-4ad0-ac12-079d0198decc:1813' labels=frozenset({'Geo'}) properties={'location': POINT(-88.66 60.25)}>],\n [<Node element_id='4:987c64da-a00c-4ad0-ac12-079d0198decc:1846' labels=frozenset({'Geo'}) properties={'location': POINT(60.82 57.11)}>],\n [<Node element_id='4:987c64da-a00c-4ad0-ac12-079d0198decc:1855' labels=frozenset({'Geo'}) properties={'location': POINT(-21.14 26.68)}>],\n [<Node element_id='4:987c64da-a00c-4ad0-ac12-079d0198decc:1865' labels=frozenset({'Geo'}) properties={'location': POINT(53.34 52.27)}>],\n [<Node element_id='4:987c64da-a00c-4ad0-ac12-079d0198decc:1890' labels=frozenset({'Geo'}) properties={'location': POINT(-59.56 15.51)}>],\n [<Node element_id='4:987c64da-a00c-4ad0-ac12-079d0198decc:1923' labels=frozenset({'Geo'}) properties={'location': POINT(88.51 52.55)}>],\n [<Node element_id='4:987c64da-a00c-4ad0-ac12-079d0198decc:1931' labels=frozenset({'Geo'}) properties={'location': POINT(86.2 -79.68)}>],\n [<Node element_id='4:987c64da-a00c-4ad0-ac12-079d0198decc:1939' labels=frozenset({'Geo'}) properties={'location': POINT(49.24 -10.91)}>],\n [<Node element_id='4:987c64da-a00c-4ad0-ac12-079d0198decc:1974' labels=frozenset({'Geo'}) properties={'location': POINT(81.42 -51.3)}>],\n [<Node element_id='4:987c64da-a00c-4ad0-ac12-079d0198decc:1976' labels=frozenset({'Geo'}) properties={'location': POINT(-57.13 -35.08)}>],\n [<Node element_id='4:987c64da-a00c-4ad0-ac12-079d0198decc:1991' labels=frozenset({'Geo'}) properties={'location': POINT(-11.25 89.8)}>],\n [<Node element_id='4:987c64da-a00c-4ad0-ac12-079d0198decc:1994' labels=frozenset({'Geo'}) properties={'location': POINT(81.69 -5.51)}>],\n [<Node element_id='4:987c64da-a00c-4ad0-ac12-079d0198decc:1998' labels=frozenset({'Geo'}) properties={'location': POINT(27.16 -12.36)}>]]"
     },
     "execution_count": 11,
     "metadata": {},
     "output_type": "execute_result"
    }
   ],
   "source": [
    "results, meta = db.cypher_query(qry_more_than_one_user)\n",
    "results"
   ],
   "metadata": {
    "collapsed": false,
    "ExecuteTime": {
     "end_time": "2024-02-17T22:18:25.253666229Z",
     "start_time": "2024-02-17T22:18:24.868400197Z"
    }
   },
   "id": "b0c0d34b35732045"
  },
  {
   "cell_type": "code",
   "execution_count": 12,
   "outputs": [],
   "source": [
    "qry_nodes_near_location = \"\"\"MATCH (geo:Geo)\n",
    "WHERE point.distance(\n",
    " geo.location,\n",
    " point({latitude:4.83, longitude:64.05})) < 2000000\n",
    "RETURN geo, point.distance(\n",
    " geo.location,\n",
    " point({latitude:4.83, longitude:64.05}))\"\"\""
   ],
   "metadata": {
    "collapsed": false,
    "ExecuteTime": {
     "end_time": "2024-02-17T22:18:25.494844961Z",
     "start_time": "2024-02-17T22:18:25.254878220Z"
    }
   },
   "id": "2fbca5714fb7266a"
  },
  {
   "cell_type": "code",
   "execution_count": 13,
   "outputs": [
    {
     "data": {
      "text/plain": "[[<Node element_id='4:987c64da-a00c-4ad0-ac12-079d0198decc:1036' labels=frozenset({'Geo'}) properties={'location': POINT(69.97 -2.55)}>,\n  1052828.676578961],\n [<Node element_id='4:987c64da-a00c-4ad0-ac12-079d0198decc:1039' labels=frozenset({'Geo'}) properties={'location': POINT(67.28 18.78)}>,\n  1592074.5714118853],\n [<Node element_id='4:987c64da-a00c-4ad0-ac12-079d0198decc:1058' labels=frozenset({'Geo'}) properties={'location': POINT(72.34 -6.3)}>,\n  1543987.5349072688],\n [<Node element_id='4:987c64da-a00c-4ad0-ac12-079d0198decc:1079' labels=frozenset({'Geo'}) properties={'location': POINT(52.01 7.62)}>,\n  1367943.318022243],\n [<Node element_id='4:987c64da-a00c-4ad0-ac12-079d0198decc:1085' labels=frozenset({'Geo'}) properties={'location': POINT(48.87 1.0)}>,\n  1740346.762794677],\n [<Node element_id='4:987c64da-a00c-4ad0-ac12-079d0198decc:1090' labels=frozenset({'Geo'}) properties={'location': POINT(69.86 0.19)}>,\n  827085.3231758048],\n [<Node element_id='4:987c64da-a00c-4ad0-ac12-079d0198decc:1144' labels=frozenset({'Geo'}) properties={'location': POINT(70.09 14.0)}>,\n  1216958.7438139266],\n [<Node element_id='4:987c64da-a00c-4ad0-ac12-079d0198decc:1164' labels=frozenset({'Geo'}) properties={'location': POINT(57.42 17.05)}>,\n  1540565.7209053815],\n [<Node element_id='4:987c64da-a00c-4ad0-ac12-079d0198decc:1294' labels=frozenset({'Geo'}) properties={'location': POINT(61.08 -11.52)}>,\n  1849556.735803759],\n [<Node element_id='4:987c64da-a00c-4ad0-ac12-079d0198decc:1313' labels=frozenset({'Geo'}) properties={'location': POINT(76.69 5.01)}>,\n  1402016.1220129833],\n [<Node element_id='4:987c64da-a00c-4ad0-ac12-079d0198decc:1334' labels=frozenset({'Geo'}) properties={'location': POINT(52.45 -0.45)}>,\n  1417503.2590670318],\n [<Node element_id='4:987c64da-a00c-4ad0-ac12-079d0198decc:1393' labels=frozenset({'Geo'}) properties={'location': POINT(73.4 10.86)}>,\n  1229903.9285375355],\n [<Node element_id='4:987c64da-a00c-4ad0-ac12-079d0198decc:1430' labels=frozenset({'Geo'}) properties={'location': POINT(58.11 15.66)}>,\n  1369472.8226376],\n [<Node element_id='4:987c64da-a00c-4ad0-ac12-079d0198decc:1465' labels=frozenset({'Geo'}) properties={'location': POINT(67.0 20.38)}>,\n  1760228.6400118258],\n [<Node element_id='4:987c64da-a00c-4ad0-ac12-079d0198decc:1491' labels=frozenset({'Geo'}) properties={'location': POINT(54.99 20.21)}>,\n  1973285.9162641054],\n [<Node element_id='4:987c64da-a00c-4ad0-ac12-079d0198decc:1521' labels=frozenset({'Geo'}) properties={'location': POINT(63.17 -12.54)}>,\n  1936069.9460615737],\n [<Node element_id='4:987c64da-a00c-4ad0-ac12-079d0198decc:1548' labels=frozenset({'Geo'}) properties={'location': POINT(61.88 -12.01)}>,\n  1889948.2385390108],\n [<Node element_id='4:987c64da-a00c-4ad0-ac12-079d0198decc:1633' labels=frozenset({'Geo'}) properties={'location': POINT(48.68 3.43)}>,\n  1713570.2057953975],\n [<Node element_id='4:987c64da-a00c-4ad0-ac12-079d0198decc:1664' labels=frozenset({'Geo'}) properties={'location': POINT(70.86 4.02)}>,\n  761176.8692736786],\n [<Node element_id='4:987c64da-a00c-4ad0-ac12-079d0198decc:1686' labels=frozenset({'Geo'}) properties={'location': POINT(70.31 -8.88)}>,\n  1676884.1906806808],\n [<Node element_id='4:987c64da-a00c-4ad0-ac12-079d0198decc:1758' labels=frozenset({'Geo'}) properties={'location': POINT(67.66 15.35)}>,\n  1235915.0828736774],\n [<Node element_id='4:987c64da-a00c-4ad0-ac12-079d0198decc:1770' labels=frozenset({'Geo'}) properties={'location': POINT(65.77 6.78)}>,\n  288795.2099227833],\n [<Node element_id='4:987c64da-a00c-4ad0-ac12-079d0198decc:1783' labels=frozenset({'Geo'}) properties={'location': POINT(67.24 0.92)}>,\n  561415.0762396898],\n [<Node element_id='4:987c64da-a00c-4ad0-ac12-079d0198decc:1832' labels=frozenset({'Geo'}) properties={'location': POINT(71.47 -10.37)}>,\n  1881408.1219478827],\n [<Node element_id='4:987c64da-a00c-4ad0-ac12-079d0198decc:1866' labels=frozenset({'Geo'}) properties={'location': POINT(60.56 -1.25)}>,\n  780215.460077629],\n [<Node element_id='4:987c64da-a00c-4ad0-ac12-079d0198decc:1874' labels=frozenset({'Geo'}) properties={'location': POINT(60.48 11.32)}>,\n  822554.8111483257],\n [<Node element_id='4:987c64da-a00c-4ad0-ac12-079d0198decc:1905' labels=frozenset({'Geo'}) properties={'location': POINT(68.52 -4.51)}>,\n  1152423.829478883],\n [<Node element_id='4:987c64da-a00c-4ad0-ac12-079d0198decc:1919' labels=frozenset({'Geo'}) properties={'location': POINT(60.89 21.41)}>,\n  1876948.952788467],\n [<Node element_id='4:987c64da-a00c-4ad0-ac12-079d0198decc:1966' labels=frozenset({'Geo'}) properties={'location': POINT(64.86 7.45)}>,\n  305122.72738230013]]"
     },
     "execution_count": 13,
     "metadata": {},
     "output_type": "execute_result"
    }
   ],
   "source": [
    "results2, meta  = db.cypher_query(qry_nodes_near_location)\n",
    "results2"
   ],
   "metadata": {
    "collapsed": false,
    "ExecuteTime": {
     "end_time": "2024-02-17T22:18:25.519562569Z",
     "start_time": "2024-02-17T22:18:25.280451146Z"
    }
   },
   "id": "58122009b780fe1e"
  }
 ],
 "metadata": {
  "kernelspec": {
   "display_name": "Python 3",
   "language": "python",
   "name": "python3"
  },
  "language_info": {
   "codemirror_mode": {
    "name": "ipython",
    "version": 2
   },
   "file_extension": ".py",
   "mimetype": "text/x-python",
   "name": "python",
   "nbconvert_exporter": "python",
   "pygments_lexer": "ipython2",
   "version": "2.7.6"
  }
 },
 "nbformat": 4,
 "nbformat_minor": 5
}
